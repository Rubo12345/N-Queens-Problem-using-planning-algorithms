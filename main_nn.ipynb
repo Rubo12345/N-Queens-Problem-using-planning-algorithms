{
 "cells": [
  {
   "cell_type": "code",
   "execution_count": 51,
   "metadata": {},
   "outputs": [],
   "source": [
    "from statistics import mean\n",
    "import numpy as np\n",
    "from math import factorial\n",
    "import csv\n",
    "import copy\n",
    "import pandas as pd\n",
    "import sklearn\n",
    "from sklearn.model_selection import train_test_split\n",
    "from sklearn.model_selection import KFold\n",
    "from sklearn.model_selection import cross_val_score\n",
    "from sklearn.linear_model import LinearRegression\n",
    "from sklearn.preprocessing import StandardScaler\n",
    "from sklearn.preprocessing import PolynomialFeatures\n",
    "from sklearn import metrics\n",
    "from numpy import mean\n",
    "from sklearn.metrics import r2_score\n",
    "import pickle\n",
    "import features\n",
    "from sklearn.ensemble import RandomForestRegressor\n",
    "from sklearn.neural_network import MLPRegressor\n",
    "from sklearn.metrics import classification_report, confusion_matrix\n"
   ]
  },
  {
   "cell_type": "code",
   "execution_count": 52,
   "metadata": {},
   "outputs": [],
   "source": [
    "class CSV_:\n",
    "    def __init__(self, path):\n",
    "        self.CSVfilePath = path\n",
    "\n",
    "    def readCSV_board(self, file_address=''):\n",
    "        if len(file_address) == 0:\n",
    "            file_address = self.CSVfilePath\n",
    "        board_list = []\n",
    "        cost_list = []\n",
    "        with open(file_address, mode='r')as file:\n",
    "            csvFile = csv.reader(file)\n",
    "            # first line is the length of board\n",
    "            board_size = int(next(csvFile)[0])\n",
    "            index = 0\n",
    "            for lines in csvFile:\n",
    "                # only when there are blank lines\n",
    "                if index == 0:\n",
    "                    board = []  # new board will start after cost\n",
    "                    # continue\n",
    "                if index < board_size:\n",
    "                    board.append(list(lines))\n",
    "                    index += 1\n",
    "                    continue\n",
    "                if index == board_size:\n",
    "                    for i in range(0, len(board)):\n",
    "                        for j in range(0, len(board)):\n",
    "                            board[j][i] = int(board[j][i])\n",
    "                    board_list.append(board)\n",
    "                    cost_list.append(int(lines[0]))\n",
    "                    index = 0\n",
    "                    # print(board)\n",
    "                    continue\n",
    "        file.close()\n",
    "        return board_list, cost_list\n"
   ]
  },
  {
   "cell_type": "code",
   "execution_count": 53,
   "metadata": {},
   "outputs": [],
   "source": [
    "# class Board_Features:\n",
    "#     def __init__(self, pattern, cost):\n",
    "#         self.features = features.Features(pattern)\n",
    "#         self.pattern = pattern\n",
    "#         self.cost = cost\n",
    "#         self.size = len(self.pattern)\n",
    "#         self.heaviest_queen = self.features.Heaviest_Queen()\n",
    "#         self.lightest_queen = self.features.Lightest_Queen()\n",
    "#         self.total_weight = self.features.Total_Weight()\n",
    "#         self.ratio_heavy_to_light = self.features.Ratio_Heavy_to_Light()\n",
    "#         self.mean_weight = self.features.Mean_weight()\n",
    "#         self.median_weight = self.features.Median_weight()\n",
    "#         self.attacking_pairs = self.features.Pairs_Attacking_Queens()\n",
    "#         self.heuristic_1 = self.features.heuristic_1()\n",
    "#         self.heuristic_2 = self.features.avdist()\n",
    "#         self.heuristic_3 = self.features.avang()\n",
    "#         self.heuristic_4 = self.features.avweightedcoord()\n",
    "#         self.heuristic_5 = self.features.heuristic_5()\n",
    "\n",
    "\n",
    "def get_data(path):\n",
    "    csv_ = CSV_(\"C:/Users/Tanish A. Mishra/Documents/College Stuff/WPI/CS534/Assignment 3/N-Queens-Problem-using-planning-algorithms-main/Machine-Learning-Approach/Data_5_new.txt\")\n",
    "    board_list,  cost_list = csv_.readCSV_board(\"C:/Users/Tanish A. Mishra/Documents/College Stuff/WPI/CS534/Assignment 3/N-Queens-Problem-using-planning-algorithms-main/Machine-Learning-Approach/Data_5_new.txt\")\n",
    "    return board_list, cost_list\n",
    "\n",
    "\n",
    "board_list, cost_list = get_data(\"C:/Users/Tanish A. Mishra/Documents/College Stuff/WPI/CS534/Assignment 3/N-Queens-Problem-using-planning-algorithms-main/Machine-Learning-Approach/Data_5_new.txt\")\n",
    "\n"
   ]
  },
  {
   "cell_type": "code",
   "execution_count": 54,
   "metadata": {},
   "outputs": [],
   "source": [
    "#print(cost_list[5])\n",
    "for i in range(len(board_list)):\n",
    "    board_list[i]=np.reshape(np.array(board_list[i]),(len(board_list[i])**2))\n",
    "board_list=np.array(board_list)\n"
   ]
  },
  {
   "cell_type": "code",
   "execution_count": 55,
   "metadata": {},
   "outputs": [
    {
     "name": "stdout",
     "output_type": "stream",
     "text": [
      "(50000, 25)\n"
     ]
    }
   ],
   "source": [
    "print(np.shape(board_list))\n"
   ]
  },
  {
   "cell_type": "code",
   "execution_count": 56,
   "metadata": {},
   "outputs": [],
   "source": [
    "X_train, X_test, y_train, y_test = train_test_split(board_list, cost_list, test_size=0.20, random_state=None)\n"
   ]
  },
  {
   "cell_type": "code",
   "execution_count": 57,
   "metadata": {},
   "outputs": [
    {
     "name": "stdout",
     "output_type": "stream",
     "text": [
      "[[0 0 0 ... 5 0 0]\n",
      " [5 0 2 ... 0 0 0]\n",
      " [0 0 1 ... 0 0 0]\n",
      " ...\n",
      " [0 0 0 ... 0 0 0]\n",
      " [4 0 0 ... 0 6 0]\n",
      " [0 0 3 ... 0 0 0]]\n"
     ]
    }
   ],
   "source": [
    "print(X_train)\n"
   ]
  },
  {
   "cell_type": "code",
   "execution_count": 64,
   "metadata": {},
   "outputs": [
    {
     "data": {
      "text/html": [
       "<style>#sk-container-id-6 {color: black;background-color: white;}#sk-container-id-6 pre{padding: 0;}#sk-container-id-6 div.sk-toggleable {background-color: white;}#sk-container-id-6 label.sk-toggleable__label {cursor: pointer;display: block;width: 100%;margin-bottom: 0;padding: 0.3em;box-sizing: border-box;text-align: center;}#sk-container-id-6 label.sk-toggleable__label-arrow:before {content: \"▸\";float: left;margin-right: 0.25em;color: #696969;}#sk-container-id-6 label.sk-toggleable__label-arrow:hover:before {color: black;}#sk-container-id-6 div.sk-estimator:hover label.sk-toggleable__label-arrow:before {color: black;}#sk-container-id-6 div.sk-toggleable__content {max-height: 0;max-width: 0;overflow: hidden;text-align: left;background-color: #f0f8ff;}#sk-container-id-6 div.sk-toggleable__content pre {margin: 0.2em;color: black;border-radius: 0.25em;background-color: #f0f8ff;}#sk-container-id-6 input.sk-toggleable__control:checked~div.sk-toggleable__content {max-height: 200px;max-width: 100%;overflow: auto;}#sk-container-id-6 input.sk-toggleable__control:checked~label.sk-toggleable__label-arrow:before {content: \"▾\";}#sk-container-id-6 div.sk-estimator input.sk-toggleable__control:checked~label.sk-toggleable__label {background-color: #d4ebff;}#sk-container-id-6 div.sk-label input.sk-toggleable__control:checked~label.sk-toggleable__label {background-color: #d4ebff;}#sk-container-id-6 input.sk-hidden--visually {border: 0;clip: rect(1px 1px 1px 1px);clip: rect(1px, 1px, 1px, 1px);height: 1px;margin: -1px;overflow: hidden;padding: 0;position: absolute;width: 1px;}#sk-container-id-6 div.sk-estimator {font-family: monospace;background-color: #f0f8ff;border: 1px dotted black;border-radius: 0.25em;box-sizing: border-box;margin-bottom: 0.5em;}#sk-container-id-6 div.sk-estimator:hover {background-color: #d4ebff;}#sk-container-id-6 div.sk-parallel-item::after {content: \"\";width: 100%;border-bottom: 1px solid gray;flex-grow: 1;}#sk-container-id-6 div.sk-label:hover label.sk-toggleable__label {background-color: #d4ebff;}#sk-container-id-6 div.sk-serial::before {content: \"\";position: absolute;border-left: 1px solid gray;box-sizing: border-box;top: 0;bottom: 0;left: 50%;z-index: 0;}#sk-container-id-6 div.sk-serial {display: flex;flex-direction: column;align-items: center;background-color: white;padding-right: 0.2em;padding-left: 0.2em;position: relative;}#sk-container-id-6 div.sk-item {position: relative;z-index: 1;}#sk-container-id-6 div.sk-parallel {display: flex;align-items: stretch;justify-content: center;background-color: white;position: relative;}#sk-container-id-6 div.sk-item::before, #sk-container-id-6 div.sk-parallel-item::before {content: \"\";position: absolute;border-left: 1px solid gray;box-sizing: border-box;top: 0;bottom: 0;left: 50%;z-index: -1;}#sk-container-id-6 div.sk-parallel-item {display: flex;flex-direction: column;z-index: 1;position: relative;background-color: white;}#sk-container-id-6 div.sk-parallel-item:first-child::after {align-self: flex-end;width: 50%;}#sk-container-id-6 div.sk-parallel-item:last-child::after {align-self: flex-start;width: 50%;}#sk-container-id-6 div.sk-parallel-item:only-child::after {width: 0;}#sk-container-id-6 div.sk-dashed-wrapped {border: 1px dashed gray;margin: 0 0.4em 0.5em 0.4em;box-sizing: border-box;padding-bottom: 0.4em;background-color: white;}#sk-container-id-6 div.sk-label label {font-family: monospace;font-weight: bold;display: inline-block;line-height: 1.2em;}#sk-container-id-6 div.sk-label-container {text-align: center;}#sk-container-id-6 div.sk-container {/* jupyter's `normalize.less` sets `[hidden] { display: none; }` but bootstrap.min.css set `[hidden] { display: none !important; }` so we also need the `!important` here to be able to override the default hidden behavior on the sphinx rendered scikit-learn.org. See: https://github.com/scikit-learn/scikit-learn/issues/21755 */display: inline-block !important;position: relative;}#sk-container-id-6 div.sk-text-repr-fallback {display: none;}</style><div id=\"sk-container-id-6\" class=\"sk-top-container\"><div class=\"sk-text-repr-fallback\"><pre>MLPRegressor(hidden_layer_sizes=(15, 5), max_iter=1000)</pre><b>In a Jupyter environment, please rerun this cell to show the HTML representation or trust the notebook. <br />On GitHub, the HTML representation is unable to render, please try loading this page with nbviewer.org.</b></div><div class=\"sk-container\" hidden><div class=\"sk-item\"><div class=\"sk-estimator sk-toggleable\"><input class=\"sk-toggleable__control sk-hidden--visually\" id=\"sk-estimator-id-6\" type=\"checkbox\" checked><label for=\"sk-estimator-id-6\" class=\"sk-toggleable__label sk-toggleable__label-arrow\">MLPRegressor</label><div class=\"sk-toggleable__content\"><pre>MLPRegressor(hidden_layer_sizes=(15, 5), max_iter=1000)</pre></div></div></div></div></div>"
      ],
      "text/plain": [
       "MLPRegressor(hidden_layer_sizes=(15, 5), max_iter=1000)"
      ]
     },
     "execution_count": 64,
     "metadata": {},
     "output_type": "execute_result"
    }
   ],
   "source": [
    "mlp = MLPRegressor(hidden_layer_sizes=(15,5), activation='relu', solver='adam', max_iter=1000)\n",
    "mlp.fit(X_train,y_train)"
   ]
  },
  {
   "cell_type": "code",
   "execution_count": 65,
   "metadata": {},
   "outputs": [],
   "source": [
    "ypred=mlp.predict(X_test)\n",
    "r2err=r2_score(y_test,ypred)"
   ]
  },
  {
   "cell_type": "code",
   "execution_count": 66,
   "metadata": {},
   "outputs": [
    {
     "name": "stdout",
     "output_type": "stream",
     "text": [
      "0.8766436027358291\n"
     ]
    }
   ],
   "source": [
    "print(r2err)"
   ]
  },
  {
   "cell_type": "code",
   "execution_count": 67,
   "metadata": {},
   "outputs": [],
   "source": [
    "filename='nnmodel.sav'\n",
    "pickle.dump(mlp,open(filename,'wb'))"
   ]
  },
  {
   "cell_type": "code",
   "execution_count": null,
   "metadata": {},
   "outputs": [],
   "source": [
    "loadedmlp=pickle.load(open(filename,'rb'))"
   ]
  }
 ],
 "metadata": {
  "kernelspec": {
   "display_name": "Python 3.11.0 64-bit",
   "language": "python",
   "name": "python3"
  },
  "language_info": {
   "codemirror_mode": {
    "name": "ipython",
    "version": 3
   },
   "file_extension": ".py",
   "mimetype": "text/x-python",
   "name": "python",
   "nbconvert_exporter": "python",
   "pygments_lexer": "ipython3",
   "version": "3.11.0"
  },
  "orig_nbformat": 4,
  "vscode": {
   "interpreter": {
    "hash": "7c5fb3bdb6b99065ce4618d4acd723a2f7a0f14b6bc94298e77938ee3167f946"
   }
  }
 },
 "nbformat": 4,
 "nbformat_minor": 2
}
