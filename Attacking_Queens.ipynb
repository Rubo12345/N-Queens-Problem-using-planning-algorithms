{
  "nbformat": 4,
  "nbformat_minor": 0,
  "metadata": {
    "colab": {
      "provenance": []
    },
    "kernelspec": {
      "name": "python3",
      "display_name": "Python 3"
    },
    "language_info": {
      "name": "python"
    }
  },
  "cells": [
    {
      "cell_type": "code",
      "execution_count": null,
      "metadata": {
        "id": "N5z1GF3I6RR7"
      },
      "outputs": [],
      "source": [
        "# N=3\n",
        "# def noofattackers(board, row, col):\n",
        "#   count=0\n",
        "  \n",
        "#     # Check this row on left side\n",
        "#   for i in range(col):\n",
        "#     if board[row][i] == 1:\n",
        "#       count+=1\n",
        "  \n",
        "#     # Check upper diagonal on left side\n",
        "#   for i, j in zip(range(row, -1, -1), range(col, -1, -1)):\n",
        "#     if board[i][j] == 1:\n",
        "#       count+=1\n",
        "  \n",
        "#     # Check lower diagonal on left side\n",
        "#   for i, j in zip(range(row, N, 1),range(col, -1, -1)):\n",
        "#     if board[i][j] == 1:\n",
        "#       count+=1\n",
        "  \n",
        "#   return count"
      ]
    },
    {
      "cell_type": "code",
      "source": [
        "def checkattackers(board,x,y):\n",
        "  count=0\n",
        "  iter=y\n",
        "  flag=0\n",
        "  while flag==0 and iter>=0: #check for other queens on the left of the current queen\n",
        "    if board[x][iter]>0 and iter!=y:\n",
        "      flag=1\n",
        "    iter-=1\n",
        "  count=count+flag\n",
        "  #print(count)\n",
        "  flag=0\n",
        "  iter=y\n",
        "  while flag==0 and iter<len(board):#check for other queens on the right of the current queen\n",
        "    if board[x][iter]>0 and iter!=y:\n",
        "      flag=1\n",
        "    iter+=1\n",
        "  count=count+flag\n",
        "  #print(count)\n",
        "  flag=0\n",
        "  iter=x\n",
        "  while flag==0 and iter>=0:#check for other queens above the current queen\n",
        "    if board[iter][y]>0 and iter!=x:\n",
        "      flag=1\n",
        "    iter-=1\n",
        "  count=count+flag\n",
        "  #print(count)\n",
        "  flag=0\n",
        "  iter=x\n",
        "  while flag==0 and iter<len(board[0]):#check for other queens below the current queen\n",
        "    if board[iter][y]>0 and iter!=x:\n",
        "      flag=1\n",
        "    iter+=1\n",
        "  count=count+flag\n",
        "  #print(count)\n",
        "  flag=0 \n",
        "  #diagonals:\n",
        "  iter1=x\n",
        "  iter2=y\n",
        "  while flag==0 and iter1>=0 and iter2>=0: #check for other queens northwest of the current queen\n",
        "    if board[iter1][iter2]>0 and iter1!=x and iter2!=y:\n",
        "      flag=1\n",
        "    iter1-=1\n",
        "    iter2-=1\n",
        "  count=count+flag\n",
        "  #print(count)\n",
        "  flag=0 \n",
        "  iter1=x\n",
        "  iter2=y\n",
        "  while flag==0 and iter2<len(board) and iter1>=0: #check for other queens northeast of the current queen\n",
        "    if board[iter1][iter2]>0 and iter1!=x and iter2!=y:\n",
        "      flag=1\n",
        "    iter1-=1\n",
        "    iter2+=1\n",
        "  count=count+flag\n",
        "  # if flag==1: print('northeast')\n",
        "  # print(count)\n",
        "  flag=0 \n",
        "  iter1=x\n",
        "  iter2=y\n",
        "  while flag==0 and iter2<len(board) and iter1<len(board): #check for other queens southeast of the current queen\n",
        "    if board[iter1][iter2]>0 and iter1!=x and iter2!=y:\n",
        "      flag=1\n",
        "    iter1+=1\n",
        "    iter2+=1\n",
        "    #print(iter1,iter2)\n",
        "  count=count+flag\n",
        "  #print(count)\n",
        "  flag=0 \n",
        "  iter1=x\n",
        "  iter2=y\n",
        "  while flag==0 and iter1<len(board) and iter2>=0: #check for other queens southwest of the current queen\n",
        "    if board[iter1][iter2]>0 and iter1!=x and iter2!=y:\n",
        "      flag=1\n",
        "    iter1+=1\n",
        "    iter2-=1\n",
        "  count=count+flag\n",
        "  #print(count)\n",
        "  flag=0\n",
        "  iter1=x\n",
        "  iter2=y\n",
        "  return count\n",
        "\n",
        "print(checkattackers([[1,1,1],[1,1,1],[1,1,1]],1,2))"
      ],
      "metadata": {
        "colab": {
          "base_uri": "https://localhost:8080/"
        },
        "id": "PHpHqVs0-Qfc",
        "outputId": "b7647d35-e2a6-4c38-bd16-d6f9c3b50ac8"
      },
      "execution_count": 10,
      "outputs": [
        {
          "output_type": "stream",
          "name": "stdout",
          "text": [
            "5\n"
          ]
        }
      ]
    },
    {
      "cell_type": "code",
      "source": [
        "def attackingpairs(board):\n",
        "  count=0\n",
        "  l=len(board)\n",
        "  for i in range(l):\n",
        "    for j in range(l):\n",
        "      if board[i][j]>0:\n",
        "        count=count+checkattackers(board,i,j)\n",
        "  count=count/2\n",
        "  return count\n",
        "print(attackingpairs([[0,1,0],[1,1,1],[0,1,0]]))"
      ],
      "metadata": {
        "colab": {
          "base_uri": "https://localhost:8080/"
        },
        "id": "_xAqQkD37aVg",
        "outputId": "cc72eda7-1277-40c0-e41e-f20e03f2b4d8"
      },
      "execution_count": 11,
      "outputs": [
        {
          "output_type": "stream",
          "name": "stdout",
          "text": [
            "8.0\n"
          ]
        }
      ]
    }
  ]
}